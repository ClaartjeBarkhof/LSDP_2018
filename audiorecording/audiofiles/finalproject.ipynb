{
 "cells": [
  {
   "cell_type": "code",
   "execution_count": 106,
   "metadata": {},
   "outputs": [],
   "source": [
    "import csv\n",
    "import pandas as pd\n",
    "import numpy as np\n",
    "from sklearn.model_selection import KFold\n",
    "from sklearn import svm\n",
    "from sklearn.preprocessing import Imputer\n",
    "from joblib import Parallel, delayed\n",
    "import multiprocessing\n",
    "import matplotlib.pyplot as plt\n",
    "from numpy import ma\n",
    "from matplotlib import colors, ticker, cm\n",
    "from matplotlib.mlab import bivariate_normal\n",
    "from matplotlib.colors import LogNorm"
   ]
  },
  {
   "cell_type": "code",
   "execution_count": 107,
   "metadata": {},
   "outputs": [
    {
     "data": {
      "text/plain": [
       "(314, 252)"
      ]
     },
     "execution_count": 107,
     "metadata": {},
     "output_type": "execute_result"
    }
   ],
   "source": [
    "'''Selecting amount of frames per utterance'''\n",
    "\n",
    "# 80 frames\n",
    "df = pd.read_csv('archiefPraat.csv', header=None)\n",
    "# df_falk = pd.read_csv('FalkPraat.csv', header=None)\n",
    "# df_koen = pd.read_csv('KoenPraat.csv', header=None)\n",
    "\n",
    "# df = pd.concat([df_claartje, df_falk, df_koen])\n",
    "\n",
    "# 20 frames\n",
    "#df = pd.read_csv('outputPraat_20.csv', header=None)\n",
    "# 140 frames\n",
    "#df = pd.read_csv('outputPraat_140.csv', header=None)\n",
    "# 180 frames\n",
    "#df = pd.read_csv('outputPraat_180.csv', header=None)\n",
    "# 250 frames\n",
    "#df = pd.read_csv('outputPraat_250.csv', header=None)\n",
    "# 300 frames\n",
    "#df = pd.read_csv('outputPraat_300.csv', header=None)\n",
    "\n",
    "\n",
    "\n",
    "#df_claartje.head()\n",
    "# print(df.shape)\n",
    "df.shape\n",
    "#print(count_undefined(df))"
   ]
  },
  {
   "cell_type": "code",
   "execution_count": 108,
   "metadata": {
    "scrolled": true
   },
   "outputs": [
    {
     "name": "stdout",
     "output_type": "stream",
     "text": [
      "COUNT\n",
      "26205\n"
     ]
    }
   ],
   "source": [
    "def make_y_classes(fname):\n",
    "    '''Takes in filename as input, returns\n",
    "    the class it belongs to extracted from the\n",
    "    filename.'''\n",
    "    if \"corr\" in fname:\n",
    "        return \"corr\"\n",
    "    if \"norm\" in fname:\n",
    "        return \"norm\"\n",
    "    \n",
    "df.iloc[:,0] = df.iloc[:,0].apply(make_y_classes)\n",
    "\n",
    "#df = df.replace('--undefined--', 0)\n",
    "\n",
    "'''Ugly code for selecting amount of frames'''\n",
    "# with 20\n",
    "#X = np.array(df.loc[:, 1:19])\n",
    "#mean = np.array(df.loc[:, 21])\n",
    "#duration = np.array(df.loc[:, 20])\n",
    "\n",
    "# with 80\n",
    "X = np.array(df.loc[:, 1:249])\n",
    "mean = np.array(df.loc[:, 251])\n",
    "duration = np.array(df.loc[:, 250])\n",
    "\n",
    "# with 140\n",
    "#X = np.array(df.loc[:, 1:139])\n",
    "#mean = np.array(df.loc[:, 141])\n",
    "#duration = np.array(df.loc[:, 140])\n",
    "\n",
    "# with 180\n",
    "#X = np.array(df.loc[:, 1:179])\n",
    "#mean = np.array(df.loc[:, 181])\n",
    "#duration = np.array(df.loc[:, 180])\n",
    "\n",
    "# with 250\n",
    "#X = np.array(df.loc[:, 1:249])\n",
    "#mean = np.array(df.loc[:, 251])\n",
    "#duration = np.array(df.loc[:, 250])\n",
    "\n",
    "# with 300\n",
    "#X = np.array(df.loc[:, 1:299])\n",
    "#mean = np.array(df.loc[:, 301])\n",
    "#duration = np.array(df.loc[:, 300])\n",
    "\n",
    "# Duration as exta feature\n",
    "#X = np.hstack((X,duration))\n",
    "\n",
    "# Take column group (column 0) as Y\n",
    "Y = np.array(df.loc[:,0])\n",
    "\n",
    "# \n",
    "def normalize(X):\n",
    "    '''Normalize: haal means van waarden\n",
    "    af en zet rest op 0 of andere waarde'''\n",
    "    count = 0\n",
    "    for row_index, row in enumerate(X):\n",
    "        for column_index, col in enumerate(row):\n",
    "            if col == '--undefined--':\n",
    "                count += 1\n",
    "                # Voorbeelden van waarden om '--undefined--' in te veranderen:\n",
    "                # -float(200), -float(mean[row_index]), float(0), float(200)\n",
    "                X[row_index][column_index] = - float(mean[row_index])\n",
    "            else:\n",
    "                X[row_index][column_index] = float(col) - float(mean[row_index])\n",
    "    print(\"COUNT\")\n",
    "    print(count)\n",
    "    return X\n",
    "\n",
    "X = normalize(X)\n",
    "#print(X[0:10])"
   ]
  },
  {
   "cell_type": "code",
   "execution_count": 109,
   "metadata": {},
   "outputs": [],
   "source": [
    "def calc_score(predict, result):\n",
    "    '''Takes prediction and y (result) as input\n",
    "    and calculates accuracy'''\n",
    "    truefalse = predict == result\n",
    "    correct = np.sum(truefalse)\n",
    "    return (correct/len(truefalse) * 100)\n",
    "\n",
    "kf = KFold(n_splits=5, random_state=5, shuffle=True)"
   ]
  },
  {
   "cell_type": "code",
   "execution_count": 110,
   "metadata": {},
   "outputs": [
    {
     "name": "stdout",
     "output_type": "stream",
     "text": [
      "Accuracy:  73.5586277522\n",
      "Gamma:  1e-06\n",
      "C:  3\n"
     ]
    }
   ],
   "source": [
    "def perform_svm(kf, g, Cee, X, Y):\n",
    "    '''Carries out svm'''\n",
    "    clf = svm.SVC(decision_function_shape=\"ovo\", gamma=g, C=Cee)\n",
    "    results = []\n",
    "    for train_index, test_index in kf.split(X):\n",
    "        X_train, X_test = X[train_index], X[test_index]\n",
    "        Y_train, Y_test = Y[train_index], Y[test_index]\n",
    "        clf.fit(X_train, Y_train)\n",
    "        clf.decision_function_shape = \"ovr\"\n",
    "        Y_predict = clf.predict(X_test)\n",
    "        results.append(calc_score(Y_predict, Y_test))        \n",
    "    return (sum(results)/len(results), g, Cee)\n",
    "\n",
    "gamvals = [i/10**exp for exp in range(1,12) for i in range(1,10)]\n",
    "cvals = [i for i in range(1, 50)]\n",
    "\n",
    "retLst = Parallel(n_jobs=multiprocessing.cpu_count())(delayed(perform_svm)(kf, g, Cee, X, Y) for g in gamvals for Cee in cvals)\n",
    "best , bestgam, bestC = sorted(retLst, key=lambda tup: tup[0])[-1]\n",
    "# g = 0.000008\n",
    "# Cee = 20\n",
    "# print(perform_svm(kf, g, Cee, X, Y))\n",
    "\n",
    "print('Accuracy: ', best)\n",
    "print('Gamma: ', bestgam)\n",
    "print('C: ', bestC)"
   ]
  },
  {
   "cell_type": "code",
   "execution_count": 74,
   "metadata": {},
   "outputs": [
    {
     "data": {
      "image/png": "[encoded data removed]",
      "text/plain": [
       "<matplotlib.figure.Figure at 0x7f94f7823748>"
      ]
     },
     "metadata": {},
     "output_type": "display_data"
    }
   ],
   "source": [
    "def perform_plot(data):\n",
    "    '''Make surface plot of parameters c and gamma'''\n",
    "    dff = pd.DataFrame(data, columns=['z','x','y'])\n",
    "    dff = dff.pivot_table(values='z', index='x', columns='y')\n",
    "\n",
    "    fig, ax = plt.subplots()\n",
    "    cs = ax.contourf(dff.columns, dff.index,  dff)\n",
    "    ax.set_yscale(\"log\")\n",
    "    ax.set_xlabel('C value')\n",
    "    ax.set_ylabel('gamma value')\n",
    "\n",
    "    cbar = fig.colorbar(cs, label='accuracy')\n",
    "    plt.savefig('test', dpi=300)\n",
    "    plt.show()\n",
    "    \n",
    "perform_plot(retLst)"
   ]
  },
  {
   "cell_type": "code",
   "execution_count": 410,
   "metadata": {},
   "outputs": [
    {
     "data": {
      "text/html": [
       "<div>\n",
       "<style scoped>\n",
       "    .dataframe tbody tr th:only-of-type {\n",
       "        vertical-align: middle;\n",
       "    }\n",
       "\n",
       "    .dataframe tbody tr th {\n",
       "        vertical-align: top;\n",
       "    }\n",
       "\n",
       "    .dataframe thead th {\n",
       "        text-align: right;\n",
       "    }\n",
       "</style>\n",
       "<table border=\"1\" class=\"dataframe\">\n",
       "  <thead>\n",
       "    <tr style=\"text-align: right;\">\n",
       "      <th></th>\n",
       "      <th>LOW</th>\n",
       "      <th>NEU</th>\n",
       "      <th>HIGH</th>\n",
       "    </tr>\n",
       "  </thead>\n",
       "  <tbody>\n",
       "    <tr>\n",
       "      <th>LOW</th>\n",
       "      <td>54</td>\n",
       "      <td>15</td>\n",
       "      <td>15</td>\n",
       "    </tr>\n",
       "    <tr>\n",
       "      <th>NEU</th>\n",
       "      <td>11</td>\n",
       "      <td>46</td>\n",
       "      <td>4</td>\n",
       "    </tr>\n",
       "    <tr>\n",
       "      <th>HIGH</th>\n",
       "      <td>12</td>\n",
       "      <td>10</td>\n",
       "      <td>61</td>\n",
       "    </tr>\n",
       "  </tbody>\n",
       "</table>\n",
       "</div>"
      ],
      "text/plain": [
       "      LOW  NEU  HIGH\n",
       "LOW    54   15    15\n",
       "NEU    11   46     4\n",
       "HIGH   12   10    61"
      ]
     },
     "execution_count": 410,
     "metadata": {},
     "output_type": "execute_result"
    }
   ],
   "source": [
    "def perform_pred_svm(kf, g, Cee, X, Y):\n",
    "    '''Carries out svm, saves prediction'''\n",
    "    clf = svm.SVC(decision_function_shape=\"ovo\", gamma=g, C=Cee)\n",
    "    best = 0\n",
    "    predres = []\n",
    "    valres = []\n",
    "    \n",
    "    for train_index, test_index in kf.split(X):\n",
    "        X_train, X_test = X[train_index], X[test_index]\n",
    "        Y_train, Y_test = Y[train_index], Y[test_index]\n",
    "        \n",
    "        clf.fit(X_train, Y_train)\n",
    "        clf.decision_function_shape = \"ovr\"\n",
    "        Y_predict = clf.predict(X_test)\n",
    "        score = calc_score(Y_predict, Y_test)\n",
    "        if score > best:\n",
    "            best = score\n",
    "            predres = Y_predict\n",
    "            valres = Y_test\n",
    "        \n",
    "        \n",
    "    return (predres, valres)\n",
    "\n",
    "results = {}\n",
    "pred, val = perform_pred_svm(kf, 1e-06, 4, X, Y)\n",
    "\n",
    "\n",
    "preds = pd.DataFrame(0, \n",
    "                 index=['LOW', 'NEU', 'HIGH'], \n",
    "                 columns=['LOW', 'NEU', 'HIGH'])\n",
    "\n",
    "\n",
    "# ROWS zijn wat de pred zegt\n",
    "# COLUMNS zijn wat het moet zijn\n",
    "for i in range(len(pred)):\n",
    "    preds.loc[pred[i], val[i]] += 1\n",
    "preds"
   ]
  },
  {
   "cell_type": "code",
   "execution_count": null,
   "metadata": {},
   "outputs": [],
   "source": []
  }
 ],
 "metadata": {
  "kernelspec": {
   "display_name": "Python 3",
   "language": "python",
   "name": "python3"
  },
  "language_info": {
   "codemirror_mode": {
    "name": "ipython",
    "version": 3
   },
   "file_extension": ".py",
   "mimetype": "text/x-python",
   "name": "python",
   "nbconvert_exporter": "python",
   "pygments_lexer": "ipython3",
   "version": "3.5.2"
  }
 },
 "nbformat": 4,
 "nbformat_minor": 2
}
